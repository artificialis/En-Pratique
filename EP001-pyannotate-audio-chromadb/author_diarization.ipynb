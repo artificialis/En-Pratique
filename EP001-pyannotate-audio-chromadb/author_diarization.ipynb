{
 "cells": [
  {
   "cell_type": "markdown",
   "id": "26eed266-5255-4f2e-a8f9-dca656b9200e",
   "metadata": {},
   "source": [
    "## Chroma"
   ]
  },
  {
   "cell_type": "code",
   "execution_count": null,
   "id": "af5c88d3-2dbb-4a7b-82ea-7eecd5d485ef",
   "metadata": {},
   "outputs": [],
   "source": [
    "import chromadb\n",
    "import os"
   ]
  },
  {
   "cell_type": "code",
   "execution_count": null,
   "id": "a9bc16e4-9f26-4a4b-8000-d0713fe00590",
   "metadata": {},
   "outputs": [],
   "source": [
    "client = chromadb.Client()"
   ]
  },
  {
   "cell_type": "code",
   "execution_count": null,
   "id": "29118f9e-ee73-4ccd-9691-85ee7f7ce45a",
   "metadata": {},
   "outputs": [],
   "source": [
    "collection = client.create_collection(\"speaker-embeddings\")"
   ]
  },
  {
   "cell_type": "markdown",
   "id": "cc976264-d9d3-4e8f-939a-270e56ea816c",
   "metadata": {},
   "source": [
    "## pyannote-audio"
   ]
  },
  {
   "cell_type": "code",
   "execution_count": null,
   "id": "9c332770-33f1-45a4-8164-334959efdc6f",
   "metadata": {},
   "outputs": [],
   "source": [
    "from pyannote.audio import Pipeline"
   ]
  },
  {
   "cell_type": "code",
   "execution_count": null,
   "id": "734e83f0-16e2-4e32-9f67-f284d78b884b",
   "metadata": {},
   "outputs": [],
   "source": [
    "HF_TOKEN = os.getenv(\"HF_TOKEN\")\n",
    "pipeline = Pipeline.from_pretrained(\n",
    "    \"pyannote/speaker-diarization-3.1\",\n",
    "    use_auth_token=HF_TOKEN\n",
    ")\n"
   ]
  },
  {
   "cell_type": "code",
   "execution_count": null,
   "id": "4115ed2e-2b5a-4d07-9c27-9971596b5a93",
   "metadata": {},
   "outputs": [],
   "source": [
    "import torch"
   ]
  },
  {
   "cell_type": "code",
   "execution_count": null,
   "id": "c637700c-d539-4f0b-a860-16d2059aec53",
   "metadata": {},
   "outputs": [],
   "source": [
    "pipeline.to(torch.device(\"cuda\"))"
   ]
  },
  {
   "cell_type": "code",
   "execution_count": null,
   "id": "f55391cf-992a-45a3-ae3d-10cf5e36814f",
   "metadata": {},
   "outputs": [],
   "source": "diarization_02 = pipeline(\"audio/speaker_02.wav\")"
  },
  {
   "cell_type": "code",
   "execution_count": null,
   "id": "2aba1cd1-0d92-4d4c-a3f0-a1c5d9f37c19",
   "metadata": {},
   "outputs": [],
   "source": "diarization_03 = pipeline(\"audio/speaker_03.wav\")"
  },
  {
   "cell_type": "code",
   "execution_count": null,
   "id": "f13621b1-2cd5-454b-9384-7960bd644731",
   "metadata": {},
   "outputs": [],
   "source": "diarization_04 = pipeline(\"audio/speaker_04.wav\")"
  },
  {
   "cell_type": "code",
   "execution_count": null,
   "id": "0681acbb-df86-42a0-8471-3353600d1e1c",
   "metadata": {},
   "outputs": [],
   "source": [
    "import json\n",
    "file_names = [\"speaker_02.wav\", \"speaker_03.wav\", \"speaker_04.wav\"]\n",
    "speaker_diarization = {fn:[] for fn in file_names}\n",
    "for diar, file_name in zip([diarization_02, diarization_03, diarization_04], file_names):\n",
    "    for turn, _, speaker in diar.itertracks(yield_label=True):\n",
    "        # print(f\"start={turn.start:.1f}s stop={turn.end:.1f}s speaker_{speaker}\")\n",
    "        speaker_diarization[file_name].append({\n",
    "            \"start\": turn.start,\n",
    "            \"end\": turn.end,\n",
    "            \"speaker\": speaker\n",
    "        })\n",
    "    # end for\n",
    "# end for\n",
    "with open(\"author_diarization.json\", \"w\") as f:\n",
    "    json.dump(speaker_diarization, f)\n",
    "# end with"
   ]
  },
  {
   "cell_type": "code",
   "execution_count": null,
   "id": "a809b137-8d34-4002-8ba0-bdf827cea3bd",
   "metadata": {},
   "outputs": [],
   "source": []
  }
 ],
 "metadata": {
  "kernelspec": {
   "display_name": "Python 3 (ipykernel)",
   "language": "python",
   "name": "python3"
  },
  "language_info": {
   "codemirror_mode": {
    "name": "ipython",
    "version": 3
   },
   "file_extension": ".py",
   "mimetype": "text/x-python",
   "name": "python",
   "nbconvert_exporter": "python",
   "pygments_lexer": "ipython3",
   "version": "3.11.13"
  }
 },
 "nbformat": 4,
 "nbformat_minor": 5
}
