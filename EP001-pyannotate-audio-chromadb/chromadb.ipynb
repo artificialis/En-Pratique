{
 "cells": [
  {
   "cell_type": "code",
   "execution_count": null,
   "id": "69399323-0dbb-49ac-ab54-5d69c537fb7f",
   "metadata": {},
   "outputs": [],
   "source": [
    "import chromadb"
   ]
  },
  {
   "cell_type": "code",
   "execution_count": null,
   "id": "181ae193-4fb6-4643-a761-d5790c3babe0",
   "metadata": {},
   "outputs": [],
   "source": [
    "client = chromadb.Client()"
   ]
  },
  {
   "cell_type": "code",
   "execution_count": null,
   "id": "f146b1c0-bfe6-4618-8bf0-ec2836ccbead",
   "metadata": {},
   "outputs": [],
   "source": "collection = client.create_collection(\"speaker-embeddings\")\n"
  },
  {
   "cell_type": "code",
   "execution_count": null,
   "id": "e494f459-db6c-44ee-ba13-809b3500849e",
   "metadata": {},
   "outputs": [],
   "source": []
  }
 ],
 "metadata": {
  "kernelspec": {
   "display_name": "Python 3 (ipykernel)",
   "language": "python",
   "name": "python3"
  },
  "language_info": {
   "codemirror_mode": {
    "name": "ipython",
    "version": 3
   },
   "file_extension": ".py",
   "mimetype": "text/x-python",
   "name": "python",
   "nbconvert_exporter": "python",
   "pygments_lexer": "ipython3",
   "version": "3.11.13"
  }
 },
 "nbformat": 4,
 "nbformat_minor": 5
}
